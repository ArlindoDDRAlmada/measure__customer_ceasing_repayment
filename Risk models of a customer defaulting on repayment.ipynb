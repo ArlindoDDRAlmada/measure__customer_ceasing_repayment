{
 "cells": [
  {
   "cell_type": "markdown",
   "metadata": {},
   "source": [
    "## Classifier: Risk models designed to assess the likelihood of a customer defaulting on repayment.\n",
    "\n",
    "#### Goal:\n",
    "The goal is to develop risk models in order to measure the probability of a customer ceasing repayment of their balance. Your task is to build a classifier that predicts which customers will be unable to pay their balance for 2 months within the next 12 months.\n",
    "\n",
    "#### Focus:\n",
    "For this task, we are mostly interested in observing your methodology. So, please focus on implementing the appropriate preprocessing steps while writing clean and documented code. \n",
    "\n",
    "#### Dataset: \n",
    "You are given two datasets, “X.csv” and “y.csv”, containing the features and the labels respectively. Your task is to split the dataset into train and test sets and fit only 2 classification algorithms on the training set. You may choose any classification algorithms that you prefer. After fitting, evaluate the performance of the two models on the test set.\n",
    "\n",
    "#### The file “X.csv” has the following columns:\n",
    "* id: unique identifier of the account\n",
    "* existing_score: the score of the existing machine learning model (you may use it as an input or for checking if your model performs better than the existing model)\n",
    "* open_to_buy: the difference between the credit limit and the balance. If the customer does not have a credit card, it is NaN.\n",
    "* months_since_first_loan_issued: number of months since the first loan was issued. If the customer has not taken any loans, it is NaN\n",
    "* existing_credit_card_utilization: balance / credit limit * 100, e.g. 30 means that 30% of the credit limit is utilized. If the customer does not have a credit card already, it is NaN\n",
    "* n_months_mortgage_loan_paid: number of months during which the balance of the account decreased. If the customer does not have a mortgage already, it is NaN\n",
    "\n",
    "#### The file “y.csv” contains the following columns:\n",
    "* id: unique identifier of the account\n",
    "* label: 1 if the account did not pay their balance for 2 months during the next 12 months, otherwise 0."
   ]
  },
  {
   "cell_type": "code",
   "execution_count": 212,
   "metadata": {},
   "outputs": [],
   "source": [
    "# Import libraries Import Libraries: Start by importing the necessary libraries for data manipulation \n",
    "# and visualization, such as Pandas, NumPy, and Matplotlib/Seaborn.\n",
    "\n",
    "import numpy as np   \n",
    "import pandas as pd    \n",
    "import matplotlib.pyplot as plt \n",
    "%matplotlib inline \n",
    "import seaborn as sns\n",
    "import xgboost as xgb\n",
    "\n",
    "from sklearn.model_selection import train_test_split\n",
    "from sklearn.ensemble import RandomForestClassifier\n",
    "from imblearn.over_sampling import SMOTE\n",
    "import matplotlib.pyplot as plt\n",
    "from sklearn.metrics import roc_curve, roc_auc_score\n",
    "from sklearn.metrics import classification_report, confusion_matrix, plot_confusion_matrix,roc_curve, roc_auc_score,accuracy_score\n",
    "from sklearn.metrics import accuracy_score, precision_score, recall_score, f1_score\n",
    "\n",
    "from warnings import filterwarnings \n",
    "filterwarnings(\"ignore\")"
   ]
  },

  {
   "cell_type": "markdown",
   "metadata": {},
   "source": [
    "### Performing Exploratory Data Analysis (EDA)"
   ]
  },
  {
   "cell_type": "markdown",
   "metadata": {},
   "source": [
    "1. Data Exploration: Explore the basic characteristics of the dataset to gain initial insights:\n",
    "    * View the first few rows of the dataset using df.head() to get an overview of the data structure and column names.\n",
    "    * Check the dimensions of the dataset using df.shape to see the number of rows and columns.\n",
    "    * Use df.info() to get information about the data types, non-null counts, and memory usage of each column.\n",
    "    * Use df.describe() to get summary statistics (count, mean, standard deviation, quartiles) for numerical columns.\n",
    "    * Check for missing values using df.isnull().sum() to identify columns with missing values and their counts.\n",
    "    \n",
    "\n",
    "2. Data Visualization: Create visualizations to understand the distribution and relationships between variables:\n",
    "    * Generate histograms, box plots, or kernel density plots using libraries like Matplotlib or Seaborn to explore the distribution of numerical variables.\n",
    "    * Use scatter plots, line plots, or heatmaps to examine relationships between variables.\n",
    "\n",
    "\n",
    "3. Feature Analysis: Analyze the relationship between features and the target variable:\n",
    "    * Plot the distribution of the target variable using appropriate visualizations.\n",
    "    * Examine the relationship between individual features and the target variable using scatter plots, box plots, or violin plots.\n",
    "    * Calculate correlation coefficients or use correlation matrices to identify correlations between features.\n",
    "    * Data Preprocessing: Perform necessary data preprocessing steps to clean, transform, or engineer features based on the insights gained from the analysis. This may involve handling missing values, dealing with outliers, encoding categorical variables, and feature scaling.\n",
    "\n",
    "\n",
    "4. Further Analysis: Conduct more advanced analysis or statistical tests, if required, to gain deeper insights or validate hypotheses. This may include feature selection, dimensionality reduction, or statistical tests for comparing groups or detecting patterns."
   ]
  },
  {
   "cell_type": "markdown",
   "metadata": {},
   "source": [
    "### To developing the Models, I performed the following steps:\n",
    "\n",
    "1. Split the dataset into train and test sets: I need to divide the data from \"X.csv\" and \"y.csv\" into two separate sets: a training set and a test set. The training set will be used to train the classification algorithms, while the test set will be used to evaluate the performance of the trained models.\n",
    "\n",
    "\n",
    "2. Choose two classification algorithms: I have the freedom to select any two classification algorithms that I prefer. Common choices include logistic regression, decision trees, random forests, support vector machines (SVM), or gradient boosting algorithms like XGBoost or LightGBM.\n",
    "\n",
    "\n",
    "3. Fit the chosen classification algorithms on the training set: Once I have selected the algorithms, I need to train them using the training data. This involves using the features from \"X.csv\" and the corresponding labels from \"y.csv\" to teach the models how to classify the accounts.\n",
    "\n",
    "\n",
    "4. Evaluate the performance of the models on the test set: After fitting the models, I need to use the trained models to predict the labels for the test set accounts. Then, I can compare these predictions with the actual labels from \"y.csv\" to assess how well the models perform. Common evaluation metrics for classification tasks include accuracy, precision, recall, and F1 score.\n",
    "\n",
    "\n",
    "By following these steps, I will be able to split the dataset, train two classification algorithms on the training set, and evaluate their performance on the test set. The specific algorithms chosen and their performance will depend on the implementation and analysis conducted during the task."
   ]
  },
  {
   "cell_type": "code",
   "execution_count": 213,
   "metadata": {},
   "outputs": [],
   "source": [
    "# Read all csv files, for train data\n",
    "df_X_risk = pd.read_csv('X.csv')\n",
    "df_y_risk = pd.read_csv('y.csv')"
   ]
  },
  {
   "cell_type": "code",
   "execution_count": 214,
   "metadata": {},
   "outputs": [
    {
     "data": {
      "text/html": [
       "<div>\n",
       "<style scoped>\n",
       "    .dataframe tbody tr th:only-of-type {\n",
       "        vertical-align: middle;\n",
       "    }\n",
       "\n",
       "    .dataframe tbody tr th {\n",
       "        vertical-align: top;\n",
       "    }\n",
       "\n",
       "    .dataframe thead th {\n",
       "        text-align: right;\n",
       "    }\n",
       "</style>\n",
       "<table border=\"1\" class=\"dataframe\">\n",
       "  <thead>\n",
       "    <tr style=\"text-align: right;\">\n",
       "      <th></th>\n",
       "      <th>id</th>\n",
       "      <th>existing_score</th>\n",
       "      <th>open_to_buy</th>\n",
       "      <th>months_since_first_loan_issued</th>\n",
       "      <th>existing_credit_card_utilization</th>\n",
       "      <th>n_months_mortgage_loan_paid</th>\n",
       "    </tr>\n",
       "  </thead>\n",
       "  <tbody>\n",
       "    <tr>\n",
       "      <th>0</th>\n",
       "      <td>0</td>\n",
       "      <td>287.0</td>\n",
       "      <td>68.0</td>\n",
       "      <td>52.0</td>\n",
       "      <td>NaN</td>\n",
       "      <td>12.0</td>\n",
       "    </tr>\n",
       "    <tr>\n",
       "      <th>1</th>\n",
       "      <td>1</td>\n",
       "      <td>457.0</td>\n",
       "      <td>603.0</td>\n",
       "      <td>NaN</td>\n",
       "      <td>NaN</td>\n",
       "      <td>6.0</td>\n",
       "    </tr>\n",
       "    <tr>\n",
       "      <th>2</th>\n",
       "      <td>2</td>\n",
       "      <td>227.0</td>\n",
       "      <td>757.0</td>\n",
       "      <td>9.0</td>\n",
       "      <td>54.0</td>\n",
       "      <td>2.0</td>\n",
       "    </tr>\n",
       "    <tr>\n",
       "      <th>3</th>\n",
       "      <td>3</td>\n",
       "      <td>658.0</td>\n",
       "      <td>8207.0</td>\n",
       "      <td>155.0</td>\n",
       "      <td>10.0</td>\n",
       "      <td>11.0</td>\n",
       "    </tr>\n",
       "    <tr>\n",
       "      <th>4</th>\n",
       "      <td>4</td>\n",
       "      <td>269.0</td>\n",
       "      <td>384.0</td>\n",
       "      <td>58.0</td>\n",
       "      <td>98.0</td>\n",
       "      <td>13.0</td>\n",
       "    </tr>\n",
       "  </tbody>\n",
       "</table>\n",
       "</div>"
      ],
      "text/plain": [
       "   id  existing_score  open_to_buy  months_since_first_loan_issued  \\\n",
       "0   0           287.0         68.0                            52.0   \n",
       "1   1           457.0        603.0                             NaN   \n",
       "2   2           227.0        757.0                             9.0   \n",
       "3   3           658.0       8207.0                           155.0   \n",
       "4   4           269.0        384.0                            58.0   \n",
       "\n",
       "   existing_credit_card_utilization  n_months_mortgage_loan_paid  \n",
       "0                               NaN                         12.0  \n",
       "1                               NaN                          6.0  \n",
       "2                              54.0                          2.0  \n",
       "3                              10.0                         11.0  \n",
       "4                              98.0                         13.0  "
      ]
     },
     "execution_count": 214,
     "metadata": {},
     "output_type": "execute_result"
    }
   ],
   "source": [
    "# Display the first five rows of the DataFrame\n",
    "df_X_risk.head()"
   ]
  },
  {
   "cell_type": "code",
   "execution_count": 215,
   "metadata": {},
   "outputs": [
    {
     "data": {
      "text/html": [
       "<div>\n",
       "<style scoped>\n",
       "    .dataframe tbody tr th:only-of-type {\n",
       "        vertical-align: middle;\n",
       "    }\n",
       "\n",
       "    .dataframe tbody tr th {\n",
       "        vertical-align: top;\n",
       "    }\n",
       "\n",
       "    .dataframe thead th {\n",
       "        text-align: right;\n",
       "    }\n",
       "</style>\n",
       "<table border=\"1\" class=\"dataframe\">\n",
       "  <thead>\n",
       "    <tr style=\"text-align: right;\">\n",
       "      <th></th>\n",
       "      <th>id</th>\n",
       "      <th>label</th>\n",
       "    </tr>\n",
       "  </thead>\n",
       "  <tbody>\n",
       "    <tr>\n",
       "      <th>0</th>\n",
       "      <td>0</td>\n",
       "      <td>0</td>\n",
       "    </tr>\n",
       "    <tr>\n",
       "      <th>1</th>\n",
       "      <td>1</td>\n",
       "      <td>0</td>\n",
       "    </tr>\n",
       "    <tr>\n",
       "      <th>2</th>\n",
       "      <td>2</td>\n",
       "      <td>0</td>\n",
       "    </tr>\n",
       "    <tr>\n",
       "      <th>3</th>\n",
       "      <td>3</td>\n",
       "      <td>0</td>\n",
       "    </tr>\n",
       "    <tr>\n",
       "      <th>4</th>\n",
       "      <td>4</td>\n",
       "      <td>1</td>\n",
       "    </tr>\n",
       "  </tbody>\n",
       "</table>\n",
       "</div>"
      ],
      "text/plain": [
       "   id  label\n",
       "0   0      0\n",
       "1   1      0\n",
       "2   2      0\n",
       "3   3      0\n",
       "4   4      1"
      ]
     },
     "execution_count": 215,
     "metadata": {},
     "output_type": "execute_result"
    }
   ],
   "source": [
    "# Display the first five rows of the DataFrame\n",
    "df_y_risk.head()"
   ]
  },
  {
   "cell_type": "code",
   "execution_count": 216,
   "metadata": {},
   "outputs": [
    {
     "data": {
      "text/plain": [
       "(10000, 6)"
      ]
     },
     "execution_count": 216,
     "metadata": {},
     "output_type": "execute_result"
    }
   ],
   "source": [
    "# The shape of the DataFrame (n_rows, n_columns)\n",
    "df_X_risk.shape"
   ]
  },
  {
   "cell_type": "code",
   "execution_count": 217,
   "metadata": {},
   "outputs": [
    {
     "data": {
      "text/plain": [
       "(10000, 2)"
      ]
     },
     "execution_count": 217,
     "metadata": {},
     "output_type": "execute_result"
    }
   ],
   "source": [
    "# The shape of the DataFrame (n_rows, n_columns)\n",
    "df_y_risk.shape"
   ]
  },
  {
   "cell_type": "code",
   "execution_count": 218,
   "metadata": {},
   "outputs": [
    {
     "name": "stdout",
     "output_type": "stream",
     "text": [
      "<class 'pandas.core.frame.DataFrame'>\n",
      "RangeIndex: 10000 entries, 0 to 9999\n",
      "Data columns (total 6 columns):\n",
      " #   Column                            Non-Null Count  Dtype  \n",
      "---  ------                            --------------  -----  \n",
      " 0   id                                10000 non-null  int64  \n",
      " 1   existing_score                    10000 non-null  float64\n",
      " 2   open_to_buy                       8423 non-null   float64\n",
      " 3   months_since_first_loan_issued    7909 non-null   float64\n",
      " 4   existing_credit_card_utilization  6574 non-null   float64\n",
      " 5   n_months_mortgage_loan_paid       9120 non-null   float64\n",
      "dtypes: float64(5), int64(1)\n",
      "memory usage: 468.9 KB\n"
     ]
    }
   ],
   "source": [
    "# Display information about the DataFrame\n",
    "df_X_risk.info()"
   ]
  },
  {
   "cell_type": "markdown",
   "metadata": {},
   "source": [
    "The output you provided is the result of calling the info() method on the DataFrame df_X_train. This method provides information about the data types and non-null counts for each column in the DataFrame.\n",
    "\n",
    "Here's the breakdown of the information provided:\n",
    "\n",
    "The DataFrame has a RangeIndex, indicating that the index of the DataFrame ranges from 0 to 9999 (a total of 10,000 entries).\n",
    "The DataFrame contains 6 columns.\n",
    "The column names and their corresponding non-null counts are listed.\n",
    "The \"id\" column has 10,000 non-null values and is of the int64 data type.\n",
    "The \"existing_score\" column has 10,000 non-null values and is of the float64 data type.\n",
    "The \"open_to_buy\" column has 8,423 non-null values and is of the float64 data type.\n",
    "The \"months_since_first_loan_issued\" column has 7,909 non-null values and is of the float64 data type.\n",
    "The \"existing_credit_card_utilization\" column has 6,574 non-null values and is of the float64 data type.\n",
    "The \"n_months_mortgage_loan_paid\" column has 9,120 non-null values and is of the float64 data type.\n",
    "The memory usage of the DataFrame is approximately 468.9 KB.\n",
    "The info() method is useful for quickly inspecting the data types, non-null counts, and memory usage of a DataFrame. It helps to identify missing values (represented as NaN) and understand the overall structure of the DataFrame."
   ]
  },
  {
   "cell_type": "code",
   "execution_count": 219,
   "metadata": {},
   "outputs": [
    {
     "data": {
      "text/html": [
       "<div>\n",
       "<style scoped>\n",
       "    .dataframe tbody tr th:only-of-type {\n",
       "        vertical-align: middle;\n",
       "    }\n",
       "\n",
       "    .dataframe tbody tr th {\n",
       "        vertical-align: top;\n",
       "    }\n",
       "\n",
       "    .dataframe thead th {\n",
       "        text-align: right;\n",
       "    }\n",
       "</style>\n",
       "<table border=\"1\" class=\"dataframe\">\n",
       "  <thead>\n",
       "    <tr style=\"text-align: right;\">\n",
       "      <th></th>\n",
       "      <th>count</th>\n",
       "      <th>mean</th>\n",
       "      <th>std</th>\n",
       "      <th>min</th>\n",
       "      <th>25%</th>\n",
       "      <th>50%</th>\n",
       "      <th>75%</th>\n",
       "      <th>max</th>\n",
       "    </tr>\n",
       "  </thead>\n",
       "  <tbody>\n",
       "    <tr>\n",
       "      <th>id</th>\n",
       "      <td>10000.0</td>\n",
       "      <td>4999.500000</td>\n",
       "      <td>2886.895680</td>\n",
       "      <td>0.0</td>\n",
       "      <td>2499.75</td>\n",
       "      <td>4999.5</td>\n",
       "      <td>7499.25</td>\n",
       "      <td>9999.0</td>\n",
       "    </tr>\n",
       "    <tr>\n",
       "      <th>existing_score</th>\n",
       "      <td>10000.0</td>\n",
       "      <td>455.101200</td>\n",
       "      <td>148.468503</td>\n",
       "      <td>71.0</td>\n",
       "      <td>338.00</td>\n",
       "      <td>436.0</td>\n",
       "      <td>572.00</td>\n",
       "      <td>801.0</td>\n",
       "    </tr>\n",
       "    <tr>\n",
       "      <th>open_to_buy</th>\n",
       "      <td>8423.0</td>\n",
       "      <td>6366.140449</td>\n",
       "      <td>10395.441692</td>\n",
       "      <td>0.0</td>\n",
       "      <td>645.00</td>\n",
       "      <td>2381.0</td>\n",
       "      <td>7569.00</td>\n",
       "      <td>260373.0</td>\n",
       "    </tr>\n",
       "    <tr>\n",
       "      <th>months_since_first_loan_issued</th>\n",
       "      <td>7909.0</td>\n",
       "      <td>94.764066</td>\n",
       "      <td>75.162791</td>\n",
       "      <td>0.0</td>\n",
       "      <td>38.00</td>\n",
       "      <td>76.0</td>\n",
       "      <td>135.00</td>\n",
       "      <td>553.0</td>\n",
       "    </tr>\n",
       "    <tr>\n",
       "      <th>existing_credit_card_utilization</th>\n",
       "      <td>6574.0</td>\n",
       "      <td>48.868117</td>\n",
       "      <td>36.674519</td>\n",
       "      <td>0.0</td>\n",
       "      <td>10.00</td>\n",
       "      <td>48.0</td>\n",
       "      <td>86.00</td>\n",
       "      <td>134.0</td>\n",
       "    </tr>\n",
       "    <tr>\n",
       "      <th>n_months_mortgage_loan_paid</th>\n",
       "      <td>9120.0</td>\n",
       "      <td>9.125877</td>\n",
       "      <td>3.936767</td>\n",
       "      <td>0.0</td>\n",
       "      <td>7.00</td>\n",
       "      <td>10.0</td>\n",
       "      <td>12.00</td>\n",
       "      <td>14.0</td>\n",
       "    </tr>\n",
       "  </tbody>\n",
       "</table>\n",
       "</div>"
      ],
      "text/plain": [
       "                                    count         mean           std   min  \\\n",
       "id                                10000.0  4999.500000   2886.895680   0.0   \n",
       "existing_score                    10000.0   455.101200    148.468503  71.0   \n",
       "open_to_buy                        8423.0  6366.140449  10395.441692   0.0   \n",
       "months_since_first_loan_issued     7909.0    94.764066     75.162791   0.0   \n",
       "existing_credit_card_utilization   6574.0    48.868117     36.674519   0.0   \n",
       "n_months_mortgage_loan_paid        9120.0     9.125877      3.936767   0.0   \n",
       "\n",
       "                                      25%     50%      75%       max  \n",
       "id                                2499.75  4999.5  7499.25    9999.0  \n",
       "existing_score                     338.00   436.0   572.00     801.0  \n",
       "open_to_buy                        645.00  2381.0  7569.00  260373.0  \n",
       "months_since_first_loan_issued      38.00    76.0   135.00     553.0  \n",
       "existing_credit_card_utilization    10.00    48.0    86.00     134.0  \n",
       "n_months_mortgage_loan_paid          7.00    10.0    12.00      14.0  "
      ]
     },
     "execution_count": 219,
     "metadata": {},
     "output_type": "execute_result"
    }
   ],
   "source": [
    "# Compute the descriptive statistics of the DataFrame and transpose the result\n",
    "df_X_risk.describe().T"
   ]
  },
  {
   "cell_type": "markdown",
   "metadata": {},
   "source": [
    "The count row indicates the number of non-null values for each column.\n",
    "The mean row represents the average value of each column.\n",
    "The std row represents the standard deviation of each column, which measures the spread or variability of the data.\n",
    "The min row represents the minimum value observed in each column.\n",
    "The 25% row represents the first quartile, which is the value below which 25% of the data falls.\n",
    "The 50% row represents the median or the second quartile, which is the value below which 50% of the data falls.\n",
    "The 75% row represents the third quartile, which is the value below which 75% of the data falls.\n",
    "The max row represents the maximum value observed in each column.\n",
    "Here's a breakdown of the statistics for each column:\n",
    "\n",
    "id: The count is 10,000, indicating that all 10,000 entries have non-null values. The minimum and maximum values are 0 and 9999, respectively. The mean is 4999.5, and the standard deviation is approximately 2886.9.\n",
    "existing_score: The count is 10,000, indicating that all entries have non-null values. The minimum and maximum values are 71.0 and 801.0, respectively. The mean is approximately 455.1, and the standard deviation is approximately 148.5.\n",
    "open_to_buy: The count is 8,423, indicating that there are missing values (NaN) in this column. The minimum and maximum values are 0.0 and 260,373.0, respectively. The mean is approximately 6366.1, and the standard deviation is approximately 10,395.4.\n",
    "months_since_first_loan_issued: The count is 7,909, indicating that there are missing values (NaN) in this column. The minimum and maximum values are 0.0 and 553.0, respectively. The mean is approximately 94.8, and the standard deviation is approximately 75.2.\n",
    "existing_credit_card_utilization: The count is 6,574, indicating that there are missing values (NaN) in this column. The minimum and maximum values are 0.0 and 134.0, respectively. The mean is approximately 48.9, and the standard deviation is approximately 36.7.\n",
    "n_months_mortgage_loan_paid: The count is 9,120, indicating that there are missing values (NaN) in this column. The minimum and maximum values are 0.0 and 14.0, respectively. The mean is approximately 9.1, and the standard deviation is approximately 3.9."
   ]
  },
  {
   "cell_type": "markdown",
   "metadata": {},
   "source": [
    "### Checking for duplicate records"
   ]
  },
  {
   "cell_type": "code",
   "execution_count": 220,
   "metadata": {},
   "outputs": [
    {
     "name": "stdout",
     "output_type": "stream",
     "text": [
      "Number of duplicate row = 0\n"
     ]
    }
   ],
   "source": [
    "# Check for duplicate\n",
    "dups = df_X_risk.duplicated()\n",
    "print(f'Number of duplicate row = { dups.sum() }')"
   ]
  },
  {
   "cell_type": "markdown",
   "metadata": {},
   "source": [
    "### Checking for missing value"
   ]
  },
  {
   "cell_type": "code",
   "execution_count": 221,
   "metadata": {},
   "outputs": [
    {
     "data": {
      "text/plain": [
       "id                                     0\n",
       "existing_score                         0\n",
       "open_to_buy                         1577\n",
       "months_since_first_loan_issued      2091\n",
       "existing_credit_card_utilization    3426\n",
       "n_months_mortgage_loan_paid          880\n",
       "dtype: int64"
      ]
     },
     "execution_count": 221,
     "metadata": {},
     "output_type": "execute_result"
    }
   ],
   "source": [
    "# Count the number of missing values in each column of the DataFrame\n",
    "df_X_risk.isnull().sum()"
   ]
  },
  {
   "cell_type": "code",
   "execution_count": 222,
   "metadata": {},
   "outputs": [
    {
     "data": {
      "text/plain": [
       "id       0\n",
       "label    0\n",
       "dtype: int64"
      ]
     },
     "execution_count": 222,
     "metadata": {},
     "output_type": "execute_result"
    }
   ],
   "source": [
    "# Count the number of missing values in each column of the DataFrame\n",
    "df_y_risk.isnull().sum()"
   ]
  },
  {
   "cell_type": "markdown",
   "metadata": {},
   "source": [
    "Dealing with missing values is an important step in data preprocessing. There are several strategies I can consider for handling missing values in your dataset. The choice of strategy depends on the nature of the data and the specific requirements of my analysis.\n",
    "\n",
    "It's important to note that the choice of handling missing values should be made carefully, as it can impact the results and conclusions drawn from your analysis. Consider the underlying assumptions, potential biases, and the impact on the quality and integrity of the data when deciding on the most appropriate approach.\n",
    "\n",
    "Before applying any handling strategy, it's recommended to further investigate the reasons for missing values. It could be due to data collection issues, specific patterns in the data, or missingness related to the target variable. Understanding the nature of missingness can provide valuable insights for selecting the most suitable approach. In this case missing value means:  If the customer does not have a credit card; If the customer has not taken any loans; If the customer does not have a credit card already; If the customer does not have a mortgage already"
   ]
  },
  {
   "cell_type": "markdown",
   "metadata": {},
   "source": [
    "Given the specific meaning of the missing values in the dataset, traditional imputation methods such as mean, median, mode, forward or backward filling, linear interpolation, or multiple imputation may not be suitable. This is because the NaN values indicate specific conditions such as the absence of a credit card, no prior loans, no existing credit card, or no mortgage.\n",
    "\n",
    "To handle these missing values appropriately, my proposed strategy is to replace the NaN values with \"-1\", while considering that the variables in question are of the float64 data type. By using \"-1\" as a distinct value, it explicitly represents the absence or non-existence of certain features in the dataset.\n",
    "\n",
    "This strategy allows for the retention of valuable information about the absence of certain features while preserving the data type consistency. However, it's crucial to document and communicate this transformation clearly to ensure proper interpretation of the dataset. Users should be aware that a value of \"-1\" indicates the lack of a specific feature.\n",
    "\n",
    "When applying analysis techniques to the modified dataset, it's important to consider how the introduction of \"-1\" may impact subsequent analyses or modeling tasks. Some algorithms may handle this value automatically, while others may require special handling or preprocessing steps to account for its presence.\n",
    "\n",
    "Before applying this strategy, it's advisable to evaluate its implications for the specific analysis or modeling tasks at hand. I will consider the compatibility of the \"-1\" value with the algorithms and models being used, and assess any potential impact on performance or validity.\n",
    "\n",
    "In summary, replacing the missing values with \"-1\" in the given context of the dataset can be a suitable strategy, as it effectively encodes the absence of certain features. However, careful consideration should be given to data interpretation, algorithm compatibility, and potential downstream effects on analysis or modeling tasks."
   ]
  },
  {
   "cell_type": "code",
   "execution_count": 223,
   "metadata": {},
   "outputs": [],
   "source": [
    "# Replaces all the missing values in df_X_risk with -1 and returns a new DataFrame\n",
    "df_X_risk_filled = df_X_risk.fillna(-1)"
   ]
  },
  {
   "cell_type": "code",
   "execution_count": 224,
   "metadata": {},
   "outputs": [
    {
     "data": {
      "text/plain": [
       "id                                  0\n",
       "existing_score                      0\n",
       "open_to_buy                         0\n",
       "months_since_first_loan_issued      0\n",
       "existing_credit_card_utilization    0\n",
       "n_months_mortgage_loan_paid         0\n",
       "dtype: int64"
      ]
     },
     "execution_count": 224,
     "metadata": {},
     "output_type": "execute_result"
    }
   ],
   "source": [
    "# Count the number of missing values in each column\n",
    "df_X_risk_filled.isnull().sum()"
   ]
  },
  {
   "cell_type": "code",
   "execution_count": 225,
   "metadata": {},
   "outputs": [
    {
     "data": {
      "text/html": [
       "<div>\n",
       "<style scoped>\n",
       "    .dataframe tbody tr th:only-of-type {\n",
       "        vertical-align: middle;\n",
       "    }\n",
       "\n",
       "    .dataframe tbody tr th {\n",
       "        vertical-align: top;\n",
       "    }\n",
       "\n",
       "    .dataframe thead th {\n",
       "        text-align: right;\n",
       "    }\n",
       "</style>\n",
       "<table border=\"1\" class=\"dataframe\">\n",
       "  <thead>\n",
       "    <tr style=\"text-align: right;\">\n",
       "      <th></th>\n",
       "      <th>id</th>\n",
       "      <th>existing_score</th>\n",
       "      <th>open_to_buy</th>\n",
       "      <th>months_since_first_loan_issued</th>\n",
       "      <th>existing_credit_card_utilization</th>\n",
       "      <th>n_months_mortgage_loan_paid</th>\n",
       "    </tr>\n",
       "  </thead>\n",
       "  <tbody>\n",
       "    <tr>\n",
       "      <th>0</th>\n",
       "      <td>0</td>\n",
       "      <td>287.0</td>\n",
       "      <td>68.0</td>\n",
       "      <td>52.0</td>\n",
       "      <td>-1.0</td>\n",
       "      <td>12.0</td>\n",
       "    </tr>\n",
       "    <tr>\n",
       "      <th>1</th>\n",
       "      <td>1</td>\n",
       "      <td>457.0</td>\n",
       "      <td>603.0</td>\n",
       "      <td>-1.0</td>\n",
       "      <td>-1.0</td>\n",
       "      <td>6.0</td>\n",
       "    </tr>\n",
       "    <tr>\n",
       "      <th>2</th>\n",
       "      <td>2</td>\n",
       "      <td>227.0</td>\n",
       "      <td>757.0</td>\n",
       "      <td>9.0</td>\n",
       "      <td>54.0</td>\n",
       "      <td>2.0</td>\n",
       "    </tr>\n",
       "    <tr>\n",
       "      <th>3</th>\n",
       "      <td>3</td>\n",
       "      <td>658.0</td>\n",
       "      <td>8207.0</td>\n",
       "      <td>155.0</td>\n",
       "      <td>10.0</td>\n",
       "      <td>11.0</td>\n",
       "    </tr>\n",
       "    <tr>\n",
       "      <th>4</th>\n",
       "      <td>4</td>\n",
       "      <td>269.0</td>\n",
       "      <td>384.0</td>\n",
       "      <td>58.0</td>\n",
       "      <td>98.0</td>\n",
       "      <td>13.0</td>\n",
       "    </tr>\n",
       "  </tbody>\n",
       "</table>\n",
       "</div>"
      ],
      "text/plain": [
       "   id  existing_score  open_to_buy  months_since_first_loan_issued  \\\n",
       "0   0           287.0         68.0                            52.0   \n",
       "1   1           457.0        603.0                            -1.0   \n",
       "2   2           227.0        757.0                             9.0   \n",
       "3   3           658.0       8207.0                           155.0   \n",
       "4   4           269.0        384.0                            58.0   \n",
       "\n",
       "   existing_credit_card_utilization  n_months_mortgage_loan_paid  \n",
       "0                              -1.0                         12.0  \n",
       "1                              -1.0                          6.0  \n",
       "2                              54.0                          2.0  \n",
       "3                              10.0                         11.0  \n",
       "4                              98.0                         13.0  "
      ]
     },
     "execution_count": 225,
     "metadata": {},
     "output_type": "execute_result"
    }
   ],
   "source": [
    "# Display the first five rows of the DataFrame\n",
    "df_X_risk_filled.head()"
   ]
  },
  {
   "cell_type": "code",
   "execution_count": 226,
   "metadata": {},
   "outputs": [],
   "source": [
    "# Concatenate df_X_risk and df_y_risk based on \"id\"\n",
    "df_risk = pd.concat([df_X_risk_filled.set_index(\"id\"), df_y_risk.set_index(\"id\")], axis=1)\n",
    "\n",
    "# Reset the index to default RangeIndex\n",
    "df_risk = df_risk.reset_index()"
   ]
  },
  {
   "cell_type": "code",
   "execution_count": 227,
   "metadata": {},
   "outputs": [
    {
     "data": {
      "text/html": [
       "<div>\n",
       "<style scoped>\n",
       "    .dataframe tbody tr th:only-of-type {\n",
       "        vertical-align: middle;\n",
       "    }\n",
       "\n",
       "    .dataframe tbody tr th {\n",
       "        vertical-align: top;\n",
       "    }\n",
       "\n",
       "    .dataframe thead th {\n",
       "        text-align: right;\n",
       "    }\n",
       "</style>\n",
       "<table border=\"1\" class=\"dataframe\">\n",
       "  <thead>\n",
       "    <tr style=\"text-align: right;\">\n",
       "      <th></th>\n",
       "      <th>id</th>\n",
       "      <th>existing_score</th>\n",
       "      <th>open_to_buy</th>\n",
       "      <th>months_since_first_loan_issued</th>\n",
       "      <th>existing_credit_card_utilization</th>\n",
       "      <th>n_months_mortgage_loan_paid</th>\n",
       "      <th>label</th>\n",
       "    </tr>\n",
       "  </thead>\n",
       "  <tbody>\n",
       "    <tr>\n",
       "      <th>0</th>\n",
       "      <td>0</td>\n",
       "      <td>287.0</td>\n",
       "      <td>68.0</td>\n",
       "      <td>52.0</td>\n",
       "      <td>-1.0</td>\n",
       "      <td>12.0</td>\n",
       "      <td>0</td>\n",
       "    </tr>\n",
       "    <tr>\n",
       "      <th>1</th>\n",
       "      <td>1</td>\n",
       "      <td>457.0</td>\n",
       "      <td>603.0</td>\n",
       "      <td>-1.0</td>\n",
       "      <td>-1.0</td>\n",
       "      <td>6.0</td>\n",
       "      <td>0</td>\n",
       "    </tr>\n",
       "    <tr>\n",
       "      <th>2</th>\n",
       "      <td>2</td>\n",
       "      <td>227.0</td>\n",
       "      <td>757.0</td>\n",
       "      <td>9.0</td>\n",
       "      <td>54.0</td>\n",
       "      <td>2.0</td>\n",
       "      <td>0</td>\n",
       "    </tr>\n",
       "    <tr>\n",
       "      <th>3</th>\n",
       "      <td>3</td>\n",
       "      <td>658.0</td>\n",
       "      <td>8207.0</td>\n",
       "      <td>155.0</td>\n",
       "      <td>10.0</td>\n",
       "      <td>11.0</td>\n",
       "      <td>0</td>\n",
       "    </tr>\n",
       "    <tr>\n",
       "      <th>4</th>\n",
       "      <td>4</td>\n",
       "      <td>269.0</td>\n",
       "      <td>384.0</td>\n",
       "      <td>58.0</td>\n",
       "      <td>98.0</td>\n",
       "      <td>13.0</td>\n",
       "      <td>1</td>\n",
       "    </tr>\n",
       "  </tbody>\n",
       "</table>\n",
       "</div>"
      ],
      "text/plain": [
       "   id  existing_score  open_to_buy  months_since_first_loan_issued  \\\n",
       "0   0           287.0         68.0                            52.0   \n",
       "1   1           457.0        603.0                            -1.0   \n",
       "2   2           227.0        757.0                             9.0   \n",
       "3   3           658.0       8207.0                           155.0   \n",
       "4   4           269.0        384.0                            58.0   \n",
       "\n",
       "   existing_credit_card_utilization  n_months_mortgage_loan_paid  label  \n",
       "0                              -1.0                         12.0      0  \n",
       "1                              -1.0                          6.0      0  \n",
       "2                              54.0                          2.0      0  \n",
       "3                              10.0                         11.0      0  \n",
       "4                              98.0                         13.0      1  "
      ]
     },
     "execution_count": 227,
     "metadata": {},
     "output_type": "execute_result"
    }
   ],
   "source": [
    "# Display the first five rows of the DataFrame\n",
    "df_risk.head()"
   ]
  },
  {
   "cell_type": "code",
   "execution_count": 228,
   "metadata": {},
   "outputs": [
    {
     "name": "stdout",
     "output_type": "stream",
     "text": [
      "<class 'pandas.core.frame.DataFrame'>\n",
      "RangeIndex: 10000 entries, 0 to 9999\n",
      "Data columns (total 7 columns):\n",
      " #   Column                            Non-Null Count  Dtype  \n",
      "---  ------                            --------------  -----  \n",
      " 0   id                                10000 non-null  int64  \n",
      " 1   existing_score                    10000 non-null  float64\n",
      " 2   open_to_buy                       10000 non-null  float64\n",
      " 3   months_since_first_loan_issued    10000 non-null  float64\n",
      " 4   existing_credit_card_utilization  10000 non-null  float64\n",
      " 5   n_months_mortgage_loan_paid       10000 non-null  float64\n",
      " 6   label                             10000 non-null  int64  \n",
      "dtypes: float64(5), int64(2)\n",
      "memory usage: 547.0 KB\n"
     ]
    }
   ],
   "source": [
    "# Display information about the DataFrame\n",
    "df_risk.info()"
   ]
  },
  {
   "cell_type": "code",
   "execution_count": 229,
   "metadata": {},
   "outputs": [
    {
     "data": {
      "text/plain": [
       "(10000, 7)"
      ]
     },
     "execution_count": 229,
     "metadata": {},
     "output_type": "execute_result"
    }
   ],
   "source": [
    "# The shape of the DataFrame (n_rows, n_columns)\n",
    "df_risk.shape"
   ]
  },
  {
   "cell_type": "markdown",
   "metadata": {},
   "source": [
    "### Data Visualization: Create visualizations to understand the distribution and relationships between variables"
   ]
  },
  {
   "cell_type": "code",
   "execution_count": 230,
   "metadata": {},
   "outputs": [],
   "source": [
    "# The function to create individual variable visualizations\n",
    "def ShowFig(column):\n",
    "    print('Description of '+ column)\n",
    "    print('---------------------------------------')\n",
    "    print(df_risk[column].describe(), end = '')\n",
    "    print('\\n-------------------------------------')\n",
    "\n",
    "    # Create a new figure or plot in Matplotlib\n",
    "    plt.figure()\n",
    "    print('Distribution of '+ column)\n",
    "    print('---------------------------------------')\n",
    "    # Create a distribution plot (histogram) using Seaborn\n",
    "    sns.distplot(df_risk[column], kde = True, color = 'g')\n",
    "    plt.show()\n",
    "    \n",
    "    # Create a new figure or plot in Matplotlib\n",
    "    plt.figure()\n",
    "    print('BoxPlot of' + column)\n",
    "    print('-----------------------------------------')\n",
    "    # Create a box plot using Seaborn\n",
    "    sns.boxplot(df_risk[column])\n",
    "    plt.show()"
   ]
  },
  {
   "cell_type": "code",
   "execution_count": 231,
   "metadata": {},
   "outputs": [
    {
     "name": "stdout",
     "output_type": "stream",
     "text": [
      "Description of existing_score\n",
      "---------------------------------------\n",
      "count    10000.000000\n",
      "mean       455.101200\n",
      "std        148.468503\n",
      "min         71.000000\n",
      "25%        338.000000\n",
      "50%        436.000000\n",
      "75%        572.000000\n",
      "max        801.000000\n",
      "Name: existing_score, dtype: float64\n",
      "-------------------------------------\n",
      "Distribution of existing_score\n",
      "---------------------------------------\n"
     ]
    },
    {
     "data": {
      "image/png": "[encoded data removed]",
      "text/plain": [
       "<Figure size 432x288 with 1 Axes>"
      ]
     },
     "metadata": {
      "needs_background": "light"
     },
     "output_type": "display_data"
    },
    {
     "name": "stdout",
     "output_type": "stream",
     "text": [
      "BoxPlot ofexisting_score\n",
      "-----------------------------------------\n"
     ]
    },
    {
     "data": {
      "image/png": "[encoded data removed]",
      "text/plain": [
       "<Figure size 432x288 with 1 Axes>"
      ]
     },
     "metadata": {
      "needs_background": "light"
     },
     "output_type": "display_data"
    }
   ],
   "source": [
    "column = 'existing_score'\n",
    "\n",
    "ShowFig(column)"
   ]
  },
  {
   "cell_type": "markdown",
   "metadata": {},
   "source": [
    "Almost a normal distibution"
   ]
  },
  {
   "cell_type": "code",
   "execution_count": 232,
   "metadata": {},
   "outputs": [
    {
     "name": "stdout",
     "output_type": "stream",
     "text": [
      "Description of open_to_buy\n",
      "---------------------------------------\n",
      "count     10000.000000\n",
      "mean       5362.042400\n",
      "std        9818.715765\n",
      "min          -1.000000\n",
      "25%         211.750000\n",
      "50%        1529.000000\n",
      "75%        6091.000000\n",
      "max      260373.000000\n",
      "Name: open_to_buy, dtype: float64\n",
      "-------------------------------------\n",
      "Distribution of open_to_buy\n",
      "---------------------------------------\n"
     ]
    },
    {
     "data": {
      "image/png": "[encoded data removed]",
      "text/plain": [
       "<Figure size 432x288 with 1 Axes>"
      ]
     },
     "metadata": {
      "needs_background": "light"
     },
     "output_type": "display_data"
    },
    {
     "name": "stdout",
     "output_type": "stream",
     "text": [
      "BoxPlot ofopen_to_buy\n",
      "-----------------------------------------\n"
     ]
    },
    {
     "data": {
      "image/png": "[encoded data removed]",
      "text/plain": [
       "<Figure size 432x288 with 1 Axes>"
      ]
     },
     "metadata": {
      "needs_background": "light"
     },
     "output_type": "display_data"
    }
   ],
   "source": [
    "column = 'open_to_buy'\n",
    "\n",
    "ShowFig(column)"
   ]
  },
  {
   "cell_type": "markdown",
   "metadata": {},
   "source": [
    "### Dealing with outliers using z-score\n",
    "\n",
    "Right-skewed distributions "
   ]
  },
  {
   "cell_type": "code",
   "execution_count": 233,
   "metadata": {},
   "outputs": [
    {
     "name": "stdout",
     "output_type": "stream",
     "text": [
      "Empty DataFrame\n",
      "Columns: [open_to_buy, label]\n",
      "Index: []\n"
     ]
    }
   ],
   "source": [
    "# Assuming 'feature' is the name of the column containing the data points\n",
    "feature = df_risk['open_to_buy']\n",
    "labels = df_risk['label']\n",
    "\n",
    "# Calculate the mean and standard deviation of the feature\n",
    "mean = feature.mean()\n",
    "std = feature.std()\n",
    "\n",
    "# Calculate the Z-scores for each data point\n",
    "z_scores = (feature - mean) / std\n",
    "\n",
    "# Identify data points with Z-scores greater than a threshold \n",
    "threshold = 5    # Set your desired threshold here\n",
    "outliers = feature[z_scores > threshold]\n",
    "\n",
    "# Remove outliers from the DataFrame\n",
    "df_risk = df_risk[~df_risk['open_to_buy'].isin(outliers)]\n",
    "\n",
    "# Print the outliers along with their labels\n",
    "outliers_with_labels = df_risk.loc[z_scores > threshold, ['open_to_buy', 'label']]\n",
    "print(outliers_with_labels)\n"
   ]
  },
  {
   "cell_type": "code",
   "execution_count": 234,
   "metadata": {},
   "outputs": [
    {
     "name": "stdout",
     "output_type": "stream",
     "text": [
      "Description of months_since_first_loan_issued\n",
      "---------------------------------------\n",
      "count    9942.000000\n",
      "mean       73.960974\n",
      "std        76.705985\n",
      "min        -1.000000\n",
      "25%         9.000000\n",
      "50%        55.000000\n",
      "75%       111.000000\n",
      "max       553.000000\n",
      "Name: months_since_first_loan_issued, dtype: float64\n",
      "-------------------------------------\n",
      "Distribution of months_since_first_loan_issued\n",
      "---------------------------------------\n"
     ]
    },
    {
     "data": {
      "image/png": "[encoded data removed]",
      "text/plain": [
       "<Figure size 432x288 with 1 Axes>"
      ]
     },
     "metadata": {
      "needs_background": "light"
     },
     "output_type": "display_data"
    },
    {
     "name": "stdout",
     "output_type": "stream",
     "text": [
      "BoxPlot ofmonths_since_first_loan_issued\n",
      "-----------------------------------------\n"
     ]
    },
    {
     "data": {
      "image/png": "[encoded data removed]",
      "text/plain": [
       "<Figure size 432x288 with 1 Axes>"
      ]
     },
     "metadata": {
      "needs_background": "light"
     },
     "output_type": "display_data"
    }
   ],
   "source": [
    "column = 'months_since_first_loan_issued'\n",
    "\n",
    "ShowFig(column)"
   ]
  },
  {
   "cell_type": "markdown",
   "metadata": {},
   "source": [
    "### Dealing with outliers using z-score\n",
    "\n",
    "Right-skewed distributions "
   ]
  },
  {
   "cell_type": "code",
   "execution_count": 235,
   "metadata": {},
   "outputs": [
    {
     "name": "stdout",
     "output_type": "stream",
     "text": [
      "      months_since_first_loan_issued  label\n",
      "301                            383.0      0\n",
      "963                            453.0      0\n",
      "1104                           409.0      0\n",
      "1157                           384.0      0\n",
      "1252                           497.0      0\n",
      "1387                           432.0      0\n",
      "1641                           553.0      0\n",
      "2493                           413.0      0\n",
      "2839                           426.0      0\n",
      "3348                           394.0      0\n",
      "3813                           460.0      0\n",
      "3867                           454.0      0\n",
      "3895                           426.0      0\n",
      "3923                           388.0      0\n",
      "4467                           432.0      0\n",
      "5652                           429.0      0\n",
      "5961                           447.0      0\n",
      "6027                           483.0      0\n",
      "6610                           405.0      0\n",
      "6747                           471.0      0\n",
      "6853                           393.0      0\n",
      "6919                           473.0      0\n",
      "6968                           427.0      0\n",
      "7059                           490.0      0\n",
      "7089                           456.0      0\n",
      "7717                           418.0      0\n",
      "8367                           438.0      0\n",
      "8590                           435.0      0\n",
      "8909                           425.0      0\n",
      "9104                           483.0      0\n",
      "9251                           439.0      0\n",
      "9332                           448.0      0\n",
      "9345                           396.0      0\n",
      "9438                           408.0      0\n",
      "9955                           484.0      0\n"
     ]
    }
   ],
   "source": [
    "# Assuming 'feature' is the name of the column containing the data points\n",
    "feature = df_risk['months_since_first_loan_issued']\n",
    "\n",
    "labels = df_risk['label']\n",
    "\n",
    "# Calculate the mean and standard deviation of the feature\n",
    "mean = feature.mean()\n",
    "std = feature.std()\n",
    "\n",
    "# Calculate the Z-scores for each data point\n",
    "z_scores = (feature - mean) / std\n",
    "\n",
    "# Identify data points with Z-scores greater than a threshold \n",
    "threshold = 4    #      75%        112.000000\n",
    "#outliers = feature[z_scores > threshold]\n",
    "\n",
    "outliers = feature[z_scores > threshold]\n",
    "\n",
    "# Remove outliers from the DataFrame (OBS: The model's results are affectly negatively when we remove this outliers )\n",
    "#df_risk = df_risk[~df_risk['months_since_first_loan_issued'].isin(outliers)]\n",
    "\n",
    "# Print the outliers along with their labels\n",
    "outliers_with_labels = df_risk.loc[z_scores > threshold, ['months_since_first_loan_issued', 'label']]\n",
    "print(outliers_with_labels)"
   ]
  },
  {
   "cell_type": "code",
   "execution_count": null,
   "metadata": {},
   "outputs": [],
   "source": []
  },
  {
   "cell_type": "code",
   "execution_count": 236,
   "metadata": {},
   "outputs": [
    {
     "name": "stdout",
     "output_type": "stream",
     "text": [
      "Description of existing_credit_card_utilization\n",
      "---------------------------------------\n",
      "count    9942.000000\n",
      "mean       31.814122\n",
      "std        38.065201\n",
      "min        -1.000000\n",
      "25%        -1.000000\n",
      "50%         9.000000\n",
      "75%        69.000000\n",
      "max       134.000000\n",
      "Name: existing_credit_card_utilization, dtype: float64\n",
      "-------------------------------------\n",
      "Distribution of existing_credit_card_utilization\n",
      "---------------------------------------\n"
     ]
    },
    {
     "data": {
      "image/png": "[encoded data removed]",
      "text/plain": [
       "<Figure size 432x288 with 1 Axes>"
      ]
     },
     "metadata": {
      "needs_background": "light"
     },
     "output_type": "display_data"
    },
    {
     "name": "stdout",
     "output_type": "stream",
     "text": [
      "BoxPlot ofexisting_credit_card_utilization\n",
      "-----------------------------------------\n"
     ]
    },
    {
     "data": {
      "image/png": "[encoded data removed]",
      "text/plain": [
       "<Figure size 432x288 with 1 Axes>"
      ]
     },
     "metadata": {
      "needs_background": "light"
     },
     "output_type": "display_data"
    }
   ],
   "source": [
    "column = 'existing_credit_card_utilization'\n",
    "\n",
    "ShowFig(column)"
   ]
  },
  {
   "cell_type": "markdown",
   "metadata": {},
   "source": [
    "Right-skewed distributions "
   ]
  },
  {
   "cell_type": "code",
   "execution_count": 237,
   "metadata": {},
   "outputs": [
    {
     "name": "stdout",
     "output_type": "stream",
     "text": [
      "Description of n_months_mortgage_loan_paid\n",
      "---------------------------------------\n",
      "count    9942.000000\n",
      "mean        8.216355\n",
      "std         4.734577\n",
      "min        -1.000000\n",
      "25%         5.000000\n",
      "50%        10.000000\n",
      "75%        12.000000\n",
      "max        14.000000\n",
      "Name: n_months_mortgage_loan_paid, dtype: float64\n",
      "-------------------------------------\n",
      "Distribution of n_months_mortgage_loan_paid\n",
      "---------------------------------------\n"
     ]
    },
    {
     "data": {
      "image/png": "[encoded data removed]",
      "text/plain": [
       "<Figure size 432x288 with 1 Axes>"
      ]
     },
     "metadata": {
      "needs_background": "light"
     },
     "output_type": "display_data"
    },
    {
     "name": "stdout",
     "output_type": "stream",
     "text": [
      "BoxPlot ofn_months_mortgage_loan_paid\n",
      "-----------------------------------------\n"
     ]
    },
    {
     "data": {
      "image/png": "[encoded data removed]",
      "text/plain": [
       "<Figure size 432x288 with 1 Axes>"
      ]
     },
     "metadata": {
      "needs_background": "light"
     },
     "output_type": "display_data"
    }
   ],
   "source": [
    "column = 'n_months_mortgage_loan_paid'\n",
    "\n",
    "ShowFig(column)"
   ]
  },
  {
   "cell_type": "markdown",
   "metadata": {},
   "source": [
    "Left-skewed distributions "
   ]
  },
  {
   "cell_type": "code",
   "execution_count": 238,
   "metadata": {},
   "outputs": [
    {
     "name": "stdout",
     "output_type": "stream",
     "text": [
      "Description of label\n",
      "---------------------------------------\n",
      "count    9942.000000\n",
      "mean        0.036713\n",
      "std         0.188066\n",
      "min         0.000000\n",
      "25%         0.000000\n",
      "50%         0.000000\n",
      "75%         0.000000\n",
      "max         1.000000\n",
      "Name: label, dtype: float64\n",
      "-------------------------------------\n",
      "Distribution of label\n",
      "---------------------------------------\n"
     ]
    },
    {
     "data": {
      "image/png": "[encoded data removed]",
      "text/plain": [
       "<Figure size 432x288 with 1 Axes>"
      ]
     },
     "metadata": {
      "needs_background": "light"
     },
     "output_type": "display_data"
    },
    {
     "name": "stdout",
     "output_type": "stream",
     "text": [
      "BoxPlot oflabel\n",
      "-----------------------------------------\n"
     ]
    },
    {
     "data": {
      "image/png": "[encoded data removed]",
      "text/plain": [
       "<Figure size 432x288 with 1 Axes>"
      ]
     },
     "metadata": {
      "needs_background": "light"
     },
     "output_type": "display_data"
    }
   ],
   "source": [
    "column = 'label'\n",
    "\n",
    "ShowFig(column)"
   ]
  },
  {
   "cell_type": "markdown",
   "metadata": {},
   "source": [
    "Imbalaced distibution"
   ]
  },
  {
   "cell_type": "code",
   "execution_count": 239,
   "metadata": {},
   "outputs": [
    {
     "data": {
      "image/png": "[encoded data removed]",
      "text/plain": [
       "<Figure size 1008x1008 with 6 Axes>"
      ]
     },
     "metadata": {
      "needs_background": "light"
     },
     "output_type": "display_data"
    }
   ],
   "source": [
    "num_cols = ['existing_score','open_to_buy','months_since_first_loan_issued','existing_credit_card_utilization','n_months_mortgage_loan_paid','label']\n",
    "\n",
    "\n",
    "# Creating histograms\n",
    "df_risk[num_cols].hist(figsize=(14,14))\n",
    "plt.show()"
   ]
  },
  {
   "cell_type": "markdown",
   "metadata": {},
   "source": [
    "### Checking for Correlation"
   ]
  },
  {
   "cell_type": "code",
   "execution_count": 240,
   "metadata": {},
   "outputs": [
    {
     "data": {
      "text/plain": [
       "<matplotlib.axes._subplots.AxesSubplot at 0x25a12b6af48>"
      ]
     },
     "execution_count": 240,
     "metadata": {},
     "output_type": "execute_result"
    },
    {
     "data": {
      "image/png": "[encoded data removed]",
      "text/plain": [
       "<Figure size 1080x576 with 2 Axes>"
      ]
     },
     "metadata": {
      "needs_background": "light"
     },
     "output_type": "display_data"
    }
   ],
   "source": [
    "# Plotting the correlation between variables\n",
    "plt.figure(figsize=(15,8))\n",
    "sns.heatmap(df_risk[num_cols].corr(),annot=True, fmt='0.2f', cmap='YlGnBu')"
   ]
  },
  {
   "cell_type": "markdown",
   "metadata": {},
   "source": [
    "There is little correlation between the target variable 'label' and the other variables, it suggests that the predictors may not have a strong linear relationship with the target variable. However, it's important to note that correlation is just one measure of association and may not capture all types of relationships."
   ]
  },
  {
   "cell_type": "code",
   "execution_count": 241,
   "metadata": {},
   "outputs": [
    {
     "data": {
      "text/plain": [
       "Index(['id', 'existing_score', 'open_to_buy', 'months_since_first_loan_issued',\n",
       "       'existing_credit_card_utilization', 'n_months_mortgage_loan_paid',\n",
       "       'label'],\n",
       "      dtype='object')"
      ]
     },
     "execution_count": 241,
     "metadata": {},
     "output_type": "execute_result"
    }
   ],
   "source": [
    "# Access the column names of the DataFrame\n",
    "df_risk.columns"
   ]
  },
  {
   "cell_type": "code",
   "execution_count": 243,
   "metadata": {},
   "outputs": [
    {
     "data": {
      "image/png": "[encoded data removed]",
      "text/plain": [
       "<Figure size 432x288 with 1 Axes>"
      ]
     },
     "metadata": {
      "needs_background": "light"
     },
     "output_type": "display_data"
    }
   ],
   "source": [
    "# create a count plot 'target variable' using Seaborn\n",
    "sns.countplot('label', data = df_risk)"
   ]
  },
  {
   "cell_type": "code",
   "execution_count": 244,
   "metadata": {},
   "outputs": [
    {
     "data": {
      "text/plain": [
       "0    0.963287\n",
       "1    0.036713\n",
       "Name: label, dtype: float64"
      ]
     },
     "execution_count": 244,
     "metadata": {},
     "output_type": "execute_result"
    }
   ],
   "source": [
    "# Calculate the normalized value counts of the 'label' column in the DataFrame\n",
    "df_risk['label'].value_counts(normalize = True)"
   ]
  },
  {
   "cell_type": "markdown",
   "metadata": {},
   "source": [
    "The distribution of values in the 'label' column\n",
    "\n",
    "0: This value occurs with a relative frequency of approximately 96.33% or 0.963287. This means that around 96.33% of the entries in the 'label' column have a value of 0.\n",
    "\n",
    "1: This value occurs with a relative frequency of approximately 3.67% or 0.036713. This indicates that around 3.67% of the entries in the 'label' column have a value of 1.\n",
    "\n",
    "The output suggests that the 'label' column is imbalanced, with a majority of entries having the value 0 (around 96.33%) and a minority having the value 1 (around 3.67%).\n",
    "\n",
    "Dealing with imbalanced data is an important consideration in machine learning. Here are several strategies that can be used to address imbalanced data:\n",
    "\n",
    "1. Collect more data: Increasing the size of the minority class by collecting more data can help to balance the dataset and provide the algorithm with more examples to learn from.\n",
    "\n",
    "2. Resampling techniques:\n",
    "    * Undersampling: This involves reducing the number of instances from the majority class to match the minority class. Randomly removing instances from the majority class can help rebalance the data. However, undersampling may result in the loss of useful information.\n",
    "    * Oversampling: This involves increasing the number of instances in the minority class by replicating or generating synthetic examples. Techniques like Synthetic Minority Oversampling Technique (SMOTE) can be used to create synthetic examples based on the characteristics of existing minority class samples.\n",
    "    * Combination: Combining undersampling and oversampling techniques can be effective. For example, undersampling the majority class and then applying oversampling techniques to the minority class.\n",
    "\n",
    "3. Class weighting: Many machine learning algorithms allow assigning different weights to different classes. By assigning higher weights to the minority class, the algorithm can pay more attention to correctly predicting instances of the minority class.\n",
    "\n",
    "4. Algorithmic techniques:\n",
    "    * Ensemble methods: Using ensemble methods like Random Forests or boosting algorithms such as AdaBoost or XGBoost can help improve the performance on imbalanced datasets by combining multiple models.\n",
    "    * Anomaly detection: If the minority class represents anomalies or rare events, using anomaly detection algorithms instead of traditional classification algorithms may be more effective.\n",
    "\n",
    "5. Evaluation metrics: Instead of relying solely on accuracy, consider using evaluation metrics that are more appropriate for imbalanced datasets, such as precision, recall, F1 score, or area under the Receiver Operating Characteristic (ROC) curve (AUC-ROC).\n",
    "\n",
    "6. Data augmentation: Generating additional samples for the minority class using techniques like data augmentation can help increase the representation of the minority class in the dataset.\n",
    "\n",
    "The choice of the appropriate strategy depends on the specific dataset and the problem at hand. It's recommended to experiment with different approaches and evaluate their impact on the model's performance using appropriate evaluation metrics."
   ]
  },
  {
   "cell_type": "code",
   "execution_count": 245,
   "metadata": {},
   "outputs": [],
   "source": [
    "# making copies of dataset\n",
    "df_risk_1 = df_risk.copy()"
   ]
  },
  {
   "cell_type": "markdown",
   "metadata": {},
   "source": [
    "### Extracting the target column into separate vectors for training set and test set"
   ]
  },
  {
   "cell_type": "code",
   "execution_count": 246,
   "metadata": {},
   "outputs": [],
   "source": [
    "X = df_risk_1.drop('label', axis = 1)\n",
    "\n",
    "y = df_risk_1.pop('label')"
   ]
  },
  {
   "cell_type": "markdown",
   "metadata": {},
   "source": [
    "### Splitting data into training and test set"
   ]
  },
  {
   "cell_type": "code",
   "execution_count": 247,
   "metadata": {},
   "outputs": [],
   "source": [
    "X_train, X_test, y_train, y_test = train_test_split(X, y, test_size = 0.3, random_state = 1)"
   ]
  },
  {
   "cell_type": "code",
   "execution_count": 248,
   "metadata": {},
   "outputs": [
    {
     "name": "stdout",
     "output_type": "stream",
     "text": [
      "X_train (6959, 6)\n",
      "X_test (2983, 6)\n",
      "y_train (6959,)\n",
      "y_test (2983,)\n"
     ]
    }
   ],
   "source": [
    "print('X_train',X_train.shape)\n",
    "print('X_test',X_test.shape)\n",
    "print('y_train',y_train.shape)\n",
    "print('y_test',y_test.shape)"
   ]
  },
  {
   "cell_type": "markdown",
   "metadata": {},
   "source": [
    "By applying SMOTE, we balance the class distribution by oversampling the minority class to match the majority class. This helps to mitigate the issue of imbalanced data and can improve the performance of the model on the minority class."
   ]
  },
  {
   "cell_type": "code",
   "execution_count": 165,
   "metadata": {},
   "outputs": [],
   "source": [
    "# Instantiate the SMOTE object\n",
    "#smote = SMOTE(random_state = 42)"
   ]
  },
  {
   "cell_type": "code",
   "execution_count": 166,
   "metadata": {},
   "outputs": [],
   "source": [
    "# Apply SMOTE to the training data\n",
    "#X_train_resampled, y_train_resampled = smote.fit_resample(X_train, y_train)"
   ]
  },
  {
   "cell_type": "markdown",
   "metadata": {},
   "source": [
    "### Some commonly used and effective classification models that you can consider"
   ]
  },
  {
   "cell_type": "markdown",
   "metadata": {},
   "source": [
    "Logistic Regression: A linear model that is widely used for binary classification. It is interpretable and works well when the classes are linearly separable.\n",
    "\n",
    "Random Forest: An ensemble model that combines multiple decision trees. It is robust, handles a mixture of feature types, and is effective for both binary and multi-class classification problems.\n",
    "\n",
    "Gradient Boosting Methods (e.g., XGBoost, LightGBM, CatBoost): These models build an ensemble of weak learners in a sequential manner. They often provide excellent predictive performance and handle complex relationships in the data.\n",
    "\n",
    "Support Vector Machines (SVM): A powerful model that finds a hyperplane that separates the classes with a maximum margin. It can handle complex decision boundaries and is effective in high-dimensional spaces.\n",
    "\n",
    "Naive Bayes: A probabilistic model based on Bayes' theorem. It assumes independence between features and works well with high-dimensional data. It is particularly useful for text classification tasks.\n",
    "\n",
    "Neural Networks: Deep learning models that can learn complex patterns and relationships in the data. They are especially effective when dealing with large-scale and high-dimensional datasets.\n",
    "\n",
    "K-Nearest Neighbors (KNN): A non-parametric model that classifies instances based on the classes of their k nearest neighbors. It is simple and works well for both binary and multi-class classification problems."
   ]
  },
  {
   "cell_type": "markdown",
   "metadata": {},
   "source": [
    "### XGBoost"
   ]
  },
  {
   "cell_type": "code",
   "execution_count": 249,
   "metadata": {},
   "outputs": [],
   "source": [
    "# Define the XGBoost classifier model and set the desired hyperparameters\n",
    "xg_model = xgb.XGBClassifier(objective='binary:logistic', random_state=42)"
   ]
  },
  {
   "cell_type": "code",
   "execution_count": 250,
   "metadata": {},
   "outputs": [
    {
     "data": {
      "text/plain": [
       "XGBClassifier(base_score=0.5, booster='gbtree', callbacks=None,\n",
       "              colsample_bylevel=1, colsample_bynode=1, colsample_bytree=1,\n",
       "              early_stopping_rounds=None, enable_categorical=False,\n",
       "              eval_metric=None, gamma=0, gpu_id=-1, grow_policy='depthwise',\n",
       "              importance_type=None, interaction_constraints='',\n",
       "              learning_rate=0.300000012, max_bin=256, max_cat_to_onehot=4,\n",
       "              max_delta_step=0, max_depth=6, max_leaves=0, min_child_weight=1,\n",
       "              missing=nan, monotone_constraints='()', n_estimators=100,\n",
       "              n_jobs=0, num_parallel_tree=1, predictor='auto', random_state=42,\n",
       "              reg_alpha=0, reg_lambda=1, ...)"
      ]
     },
     "execution_count": 250,
     "metadata": {},
     "output_type": "execute_result"
    }
   ],
   "source": [
    "# Fit the XGBoost model on the training data\n",
    "xg_model.fit(X_train, y_train)"
   ]
  },
  {
   "cell_type": "code",
   "execution_count": 251,
   "metadata": {},
   "outputs": [],
   "source": [
    "# Predict on the test set using the trained model\n",
    "y_pred = xg_model.predict(X_test)"
   ]
  },
  {
   "cell_type": "code",
   "execution_count": 252,
   "metadata": {},
   "outputs": [
    {
     "name": "stdout",
     "output_type": "stream",
     "text": [
      "Accuracy: 0.9634596044250754\n",
      "Precision: 0.0\n",
      "Recall: 0.0\n",
      "F1 score: 0.0\n"
     ]
    }
   ],
   "source": [
    "# Evaluate the performance of the model using appropriate evaluation metrics\n",
    "\n",
    "accuracy_xg = accuracy_score(y_test, y_pred)\n",
    "precision_xg = precision_score(y_test, y_pred)\n",
    "recall_xg = recall_score(y_test, y_pred)\n",
    "f1_xg = f1_score(y_test, y_pred)\n",
    "\n",
    "print(\"Accuracy:\", accuracy_xg)\n",
    "print(\"Precision:\", precision_xg)\n",
    "print(\"Recall:\", recall_xg)\n",
    "print(\"F1 score:\", f1_xg)"
   ]
  },
  {
   "cell_type": "code",
   "execution_count": 253,
   "metadata": {},
   "outputs": [
    {
     "data": {
      "image/png": "[encoded data removed]",
      "text/plain": [
       "<Figure size 432x288 with 2 Axes>"
      ]
     },
     "metadata": {
      "needs_background": "light"
     },
     "output_type": "display_data"
    }
   ],
   "source": [
    "# Plot the confusion matrix For XGBClassifier\n",
    "plot_confusion_matrix(xg_model, X_test, y_test)\n",
    "plt.title(\"Confusion Matrix - XGBClassifier\")\n",
    "plt.show()"
   ]
  },
  {
   "cell_type": "markdown",
   "metadata": {},
   "source": [
    "* True Positive (TP): The model correctly predicted instances of class 1 as class 1. In this case, there are 0 true positives, as the model did not predict any instances as class 1.\n",
    "\n",
    "\n",
    "* True Negative (TN): The model correctly predicted instances of class 0 as class 0. In this case, there are 2874 true negatives, as the model predicted class 0 for all instances of class 0.\n",
    "\n",
    "\n",
    "* False Positive (FP): The model incorrectly predicted instances of class 0 as class 1. In this case, there are 10 false positives, as the model predicted class 1 for 10 instances of class 0.\n",
    "\n",
    "\n",
    "* False Negative (FN): The model incorrectly predicted instances of class 1 as class 0. In this case, there are 99 false negatives, as the model predicted class 0 for 99 instances of class 1.\n",
    "\n",
    "\n",
    "In this case, the model did not correctly predict any instances as class 1, resulting in 0 true positives and 99 false negatives. The true negatives and false positives are the same as in the previous confusion matrix example. "
   ]
  },
  {
   "cell_type": "markdown",
   "metadata": {},
   "source": [
    "### RandomForestClassifier"
   ]
  },
  {
   "cell_type": "code",
   "execution_count": 254,
   "metadata": {},
   "outputs": [],
   "source": [
    "# Instantiate the RandomForestClassifier\n",
    "rf_classifier = RandomForestClassifier(n_estimators=220, max_depth= 20, random_state = 1)"
   ]
  },
  {
   "cell_type": "code",
   "execution_count": 255,
   "metadata": {},
   "outputs": [
    {
     "data": {
      "text/plain": [
       "RandomForestClassifier(max_depth=20, n_estimators=220, random_state=1)"
      ]
     },
     "execution_count": 255,
     "metadata": {},
     "output_type": "execute_result"
    }
   ],
   "source": [
    "# Fit the model on the training data\n",
    "rf_classifier.fit(X_train, y_train)"
   ]
  },
  {
   "cell_type": "code",
   "execution_count": 256,
   "metadata": {},
   "outputs": [],
   "source": [
    "# Predict on the test set\n",
    "y_pred = rf_classifier.predict(X_test)"
   ]
  },
  {
   "cell_type": "code",
   "execution_count": 257,
   "metadata": {},
   "outputs": [
    {
     "name": "stdout",
     "output_type": "stream",
     "text": [
      "Accuracy RF: 0.9668119342943345\n",
      "Precision: 0.0\n",
      "Recall: 0.0\n",
      "F1 score: 0.0\n"
     ]
    }
   ],
   "source": [
    "# Evaluate the model's performance using appropriate evaluation metrics\n",
    "accuracy_rf = accuracy_score(y_test, y_pred)\n",
    "precision_rf = precision_score(y_test, y_pred)\n",
    "recall_rf = recall_score(y_test, y_pred)\n",
    "f1_rf = f1_score(y_test, y_pred)\n",
    "\n",
    "print(\"Accuracy RF:\", accuracy_rf)\n",
    "print(\"Precision:\", precision_rf)\n",
    "print(\"Recall:\", recall_rf)\n",
    "print(\"F1 score:\", f1_rf)"
   ]
  },
  {
   "cell_type": "code",
   "execution_count": 258,
   "metadata": {},
   "outputs": [
    {
     "data": {
      "image/png": "[encoded data removed]",
      "text/plain": [
       "<Figure size 432x288 with 2 Axes>"
      ]
     },
     "metadata": {
      "needs_background": "light"
     },
     "output_type": "display_data"
    }
   ],
   "source": [
    "# Plot the confusion matrix For RandomForestClassifier\n",
    "plot_confusion_matrix(rf_classifier, X_test, y_test)\n",
    "plt.title(\"Confusion Matrix - RandomForestClassifier\")\n",
    "plt.show()"
   ]
  },
  {
   "cell_type": "markdown",
   "metadata": {},
   "source": [
    "* True Positive (TP): The model correctly predicted instances of class 1 as class 1. In this case, there are 0 true positives, as the model did not predict any instances as class 1.\n",
    "\n",
    "\n",
    "* True Negative (TN): The model correctly predicted instances of class 0 as class 0. In this case, there are 2884 true negatives, as the model predicted class 0 for all instances of class 0.\n",
    "\n",
    "\n",
    "* False Positive (FP): The model incorrectly predicted instances of class 0 as class 1. In this case, there are 0 false positives, as the model did not make any false positive predictions.\n",
    "\n",
    "\n",
    "* False Negative (FN): The model incorrectly predicted instances of class 1 as class 0. In this case, there are 99 false negatives, as the model predicted class 0 for all instances of class 1.\n",
    "\n",
    "\n",
    "In this case, the model correctly predicted all instances of class 0 but failed to predict any instances of class 1, resulting in 0 true positives and 99 false negatives."
   ]
  },
  {
   "cell_type": "markdown",
   "metadata": {},
   "source": [
    "### Evaluate the performance of the RandomForestClassifier and XGBClassifier models using a diagram and AUC-ROC"
   ]
  },
  {
   "cell_type": "code",
   "execution_count": 259,
   "metadata": {},
   "outputs": [],
   "source": [
    "# Calculate the predicted probabilities for the positive class\n",
    "y_pred_prob_rf = rf_classifier.predict_proba(X_test)[:, 1]\n",
    "y_pred_prob_xg = xg_model.predict_proba(X_test)[:, 1]"
   ]
  },
  {
   "cell_type": "code",
   "execution_count": 260,
   "metadata": {},
   "outputs": [],
   "source": [
    "# Calculate the AUC-ROC scores for both models\n",
    "auc_roc_rf = roc_auc_score(y_test, y_pred_prob_rf)\n",
    "auc_roc_xg = roc_auc_score(y_test, y_pred_prob_xg)"
   ]
  },
  {
   "cell_type": "code",
   "execution_count": 261,
   "metadata": {},
   "outputs": [
    {
     "data": {
      "image/png": "[encoded data removed]",
      "text/plain": [
       "<Figure size 432x288 with 1 Axes>"
      ]
     },
     "metadata": {
      "needs_background": "light"
     },
     "output_type": "display_data"
    }
   ],
   "source": [
    "# Plot the ROC curves for both models\n",
    "\n",
    "fpr_rf, tpr_rf, thresholds_rf = roc_curve(y_test, y_pred_prob_rf)\n",
    "fpr_xg, tpr_xg, thresholds_xg = roc_curve(y_test, y_pred_prob_xg)\n",
    "\n",
    "plt.plot(fpr_rf, tpr_rf, label='RandomForestClassifier (AUC = {:.4f})'.format(auc_roc_rf))\n",
    "plt.plot(fpr_xg, tpr_xg, label='XGBClassifier (AUC = {:.4f})'.format(auc_roc_xg))\n",
    "plt.plot([0, 1], [0, 1], 'k--')\n",
    "plt.xlabel('False Positive Rate')\n",
    "plt.ylabel('True Positive Rate')\n",
    "plt.title('Receiver Operating Characteristic (ROC) Curve')\n",
    "plt.legend(loc='lower right')\n",
    "plt.show()\n"
   ]
  },
  {
   "cell_type": "code",
   "execution_count": 262,
   "metadata": {},
   "outputs": [
    {
     "name": "stdout",
     "output_type": "stream",
     "text": [
      "RandomForestClassifier:\n",
      "  Accuracy_rf: 0.9668119342943345\n",
      "  Precision_rf: 0.0\n",
      "  Recall_rf: 0.0\n",
      "  F1 score_rf: 0.0\n",
      "XGBClassifier:\n",
      "  Accuracy_xg: 0.9634596044250754\n",
      "  Precision_xg: 0.0\n",
      "  Recall_xg: 0.0\n",
      "  F1 score_xg: 0.0\n"
     ]
    }
   ],
   "source": [
    "# Print the evaluation metrics for both models\n",
    "print(\"RandomForestClassifier:\")\n",
    "print(\"  Accuracy_rf:\", accuracy_rf)\n",
    "print(\"  Precision_rf:\", precision_rf)\n",
    "print(\"  Recall_rf:\", recall_rf)\n",
    "print(\"  F1 score_rf:\", f1_rf)\n",
    "\n",
    "print(\"XGBClassifier:\")\n",
    "print(\"  Accuracy_xg:\", accuracy_xg)\n",
    "print(\"  Precision_xg:\", precision_xg)\n",
    "print(\"  Recall_xg:\", recall_xg)\n",
    "print(\"  F1 score_xg:\", f1_xg)\n"
   ]
  },
  {
   "cell_type": "markdown",
   "metadata": {},
   "source": [
    "Accuracy: Accuracy measures the overall correctness of the model's predictions. It is calculated as the ratio of the number of correct predictions (both true positives and true negatives) to the total number of predictions. In the case of RandomForestClassifier and XGBClassifier, the accuracy scores are approximately 0.967 and 0.963, respectively. These scores indicate that the models correctly predicted the class labels for around 96.7% and 96.3% of the instances in the test set, respectively.\n",
    "\n",
    "Precision: Precision is the proportion of true positive predictions out of the total predicted positives. It indicates how well the model performs in terms of correctly identifying positive instances. In this case, the precision scores for both RandomForestClassifier and XGBClassifier are 0.0. A precision score of 0 indicates that the models did not make any true positive predictions, resulting in no correct positive predictions.\n",
    "\n",
    "Recall: Recall, also known as sensitivity or true positive rate, measures the proportion of actual positive instances that are correctly identified by the model. It calculates the ratio of true positives to the sum of true positives and false negatives. Similar to precision, the recall scores for both models are 0.0, indicating that no positive instances were correctly identified by the models.\n",
    "\n",
    "F1 score: The F1 score is the harmonic mean of precision and recall. It provides a single metric that balances both precision and recall. The F1 score is useful when there is an imbalance between the positive and negative classes. In this case, the F1 scores for both models are 0.0 due to zero precision and recall.\n",
    "\n",
    "AUC-ROC: The AUC-ROC (Area Under the Receiver Operating Characteristic Curve) is a popular evaluation metric for binary classification problems. It measures the performance of the model in terms of its ability to discriminate between positive and negative instances at various classification thresholds. The AUC-ROC scores for RandomForestClassifier and XGBClassifier are 0.7509 and 0.7420, respectively. These scores indicate that both models have some discriminatory power in distinguishing between the positive and negative classes, although the scores are relatively moderate.\n",
    "\n",
    "It's important to note that the precision, recall, F1 score, and AUC-ROC metrics are only meaningful when there are positive predictions made by the models. In this case, since both models have zero positive predictions, these metrics are not informative. It suggests that there might be an issue with the model's performance or the data itself. It's recommended to review the data, model training process, and evaluation metrics to address any potential issues and improve the model's performance."
   ]
  },
  {
   "cell_type": "code",
   "execution_count": null,
   "metadata": {},
   "outputs": [],
   "source": []
  }
 ],
 "metadata": {
  "kernelspec": {
   "display_name": "Python 3",
   "language": "python",
   "name": "python3"
  },
  "language_info": {
   "codemirror_mode": {
    "name": "ipython",
    "version": 3
   },
   "file_extension": ".py",
   "mimetype": "text/x-python",
   "name": "python",
   "nbconvert_exporter": "python",
   "pygments_lexer": "ipython3",
   "version": "3.7.4"
  }
 },
 "nbformat": 4,
 "nbformat_minor": 2
}
